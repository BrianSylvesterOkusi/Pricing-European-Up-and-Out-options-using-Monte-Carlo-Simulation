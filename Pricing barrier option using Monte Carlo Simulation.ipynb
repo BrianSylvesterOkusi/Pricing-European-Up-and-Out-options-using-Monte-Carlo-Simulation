{
 "cells": [
  {
   "cell_type": "markdown",
   "metadata": {},
   "source": [
    "The objective of this project is to price Up-and-Out barrier option barrier option. \n",
    "This type of option expires when the underlying stock price touches the barrier level. Otherwise, the option will stay active amd give a payoff at the maturity.\n",
    "\n",
    "### Methods applied\n",
    "1. Pricing European Up-and-Out options using Monte Carlo Simulation\n",
    "\n",
    "### Steps followed\n",
    "\n",
    "1.  Defining the parameters: Stock price, Strike price, Barrier, Interest rate, Dividend yield, Expiry, Volatility, Number of time steps and simulations\n",
    "2. Implementing iterations for the Monte Carlo Simulation; simulating stock prices using the Geometric Brownian Motion\n",
    "3. Calculating the payoffs and option price\n",
    "4. Plotting the simulated stock prices "
   ]
  },
  {
   "cell_type": "code",
   "execution_count": 1,
   "metadata": {},
   "outputs": [],
   "source": [
    "import numpy as np\n",
    "import pandas as pd\n",
    "import pandas as pd\n",
    "import matplotlib.pyplot as plt\n",
    "import numpy.ma as ma"
   ]
  },
  {
   "cell_type": "markdown",
   "metadata": {},
   "source": [
    "We shall apply the following Geometric Brownian Motion to simulate the stock prices:\n",
    "\n",
    "$$S_t = S_o*\\exp{([r - \\frac{1}{2}\\sigma^2]t + {\\sigma}W_t})$$"
   ]
  },
  {
   "cell_type": "code",
   "execution_count": 75,
   "metadata": {},
   "outputs": [],
   "source": [
    "def Up_and_Out_Option(option_type, Stock_price, Strike, Time, Barrier, interest_rate, volatility, dividend_yield, Time_steps, Simulations):\n",
    "    dt = Time/Time_steps\n",
    "    Total_payoff = 0\n",
    "    plot_data = []\n",
    "    \n",
    "    for i in range(Simulations):\n",
    "        Barrier_flag = False # Flag for crossing barrier i.e, True when barrier is crossed\n",
    "        Stock_price = Stock_price\n",
    "        \n",
    "        for j in range(Time_steps):\n",
    "            ST = Stock_price*np.exp((interest_rate-0.5*volatility**2)*dt + np.random.normal()*(volatility*np.sqrt(dt)))\n",
    "            Stock_price = ST # Updating the stock price\n",
    "            \n",
    "            if Stock_price >= Barrier:\n",
    "                Barrier_flag = True\n",
    "                break\n",
    "        plot_data.append(Stock_price)\n",
    "        if Barrier_flag:\n",
    "            payoff = 0\n",
    "        elif option_type =='put':\n",
    "            payoff = max(0, Strike - Stock_price)\n",
    "        else:\n",
    "            payoff = max(0, Stock_price -Strike)\n",
    "        Total_payoff = Total_payoff + payoff\n",
    "        Option_price = np.exp(-interest_rate*Time)*Total_payoff/Simulations\n",
    "        \n",
    "    return [Option_price,plot_data]"
   ]
  },
  {
   "cell_type": "markdown",
   "metadata": {},
   "source": [
    "### 1.1 Practical examples"
   ]
  },
  {
   "cell_type": "markdown",
   "metadata": {},
   "source": [
    "### 1.1.1 Put Option"
   ]
  },
  {
   "cell_type": "code",
   "execution_count": 77,
   "metadata": {},
   "outputs": [
    {
     "data": {
      "text/plain": [
       "8.26789938255304"
      ]
     },
     "execution_count": 77,
     "metadata": {},
     "output_type": "execute_result"
    }
   ],
   "source": [
    "Up_and_Out_Option(\"put\", 100, 100, 1, 125, 0.01, 0.2, 0, 100, 1000)[0]"
   ]
  },
  {
   "cell_type": "markdown",
   "metadata": {},
   "source": [
    "### 1.1.2 Call Option"
   ]
  },
  {
   "cell_type": "code",
   "execution_count": 61,
   "metadata": {},
   "outputs": [
    {
     "data": {
      "text/plain": [
       "0.0501588319964946"
      ]
     },
     "execution_count": 61,
     "metadata": {},
     "output_type": "execute_result"
    }
   ],
   "source": [
    "Up_and_Out_Option(\"call\", 100, 100, 1, 125, 0.01, 0.2, 0, 100, 1000)[0]"
   ]
  },
  {
   "cell_type": "markdown",
   "metadata": {},
   "source": [
    "## 1.2 Displaying the simulated stock prices and the barrier"
   ]
  },
  {
   "cell_type": "code",
   "execution_count": 78,
   "metadata": {},
   "outputs": [],
   "source": [
    "Barrier = 125\n",
    "Time = 1\n",
    "Simulations = 1000\n",
    "plot_data = Up_and_Out_Option(\"put\", 100, 100, 1, 125, 0.01, 0.2, 0, 100, 1000)[1]"
   ]
  },
  {
   "cell_type": "code",
   "execution_count": 79,
   "metadata": {},
   "outputs": [],
   "source": [
    "plot_data2 = np.array(plot_data)\n",
    "masked_data = ma.masked_where(plot_data2 >= Barrier, plot_data2)\n",
    "Unmasked_data = ma.masked_where(plot_data2 < Barrier, plot_data2)"
   ]
  },
  {
   "cell_type": "code",
   "execution_count": 82,
   "metadata": {},
   "outputs": [
    {
     "data": {
      "image/png": "[encoded data removed]",
      "text/plain": [
       "<Figure size 432x288 with 1 Axes>"
      ]
     },
     "metadata": {
      "needs_background": "light"
     },
     "output_type": "display_data"
    }
   ],
   "source": [
    "plt.plot(np.linspace(0,Time,Simulations),masked_data,'g')\n",
    "plt.plot(np.linspace(0,Time,Simulations),Unmasked_data,'r')\n",
    "plt.plot([0,Time],[Barrier,Barrier], 'k-', linewidth =3.0)\n",
    "plt.annotate('Barrier',(0.05,130))\n",
    "plt.xlim(0,1)\n",
    "plt.xlabel('Time')\n",
    "plt.ylabel('Price')\n",
    "plt.show()"
   ]
  }
 ],
 "metadata": {
  "kernelspec": {
   "display_name": "Python 3",
   "language": "python",
   "name": "python3"
  },
  "language_info": {
   "codemirror_mode": {
    "name": "ipython",
    "version": 3
   },
   "file_extension": ".py",
   "mimetype": "text/x-python",
   "name": "python",
   "nbconvert_exporter": "python",
   "pygments_lexer": "ipython3",
   "version": "3.7.1"
  }
 },
 "nbformat": 4,
 "nbformat_minor": 2
}
